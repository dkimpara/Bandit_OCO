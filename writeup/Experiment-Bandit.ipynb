{
 "cells": [
  {
   "cell_type": "markdown",
   "metadata": {},
   "source": [
    "# Experimental data for Bandit OGD with d+1 point Feedback\n",
    "\n",
    "Dhamma Kimpara"
   ]
  },
  {
   "cell_type": "code",
   "execution_count": null,
   "metadata": {},
   "outputs": [],
   "source": [
    "%load_ext autoreload\n",
    "%autoreload 2"
   ]
  },
  {
   "cell_type": "code",
   "execution_count": 2,
   "metadata": {},
   "outputs": [],
   "source": [
    "import generator as gen\n",
    "import optimizer as opt\n",
    "import numpy as np\n",
    "import scipy\n",
    "\n",
    "import matplotlib.pyplot as plt\n",
    "%matplotlib inline"
   ]
  },
  {
   "cell_type": "code",
   "execution_count": 3,
   "metadata": {},
   "outputs": [],
   "source": [
    "kappa = 100\n",
    "n = 20\n",
    "d = 5\n",
    "iters = 100\n",
    "loss_seq = gen.generate_ls_seq(n, d, gen.xstar2(d), iters)\n",
    "\n",
    "G1 = d*6\n",
    "\n",
    "eta = 1 / (2 * G1)\n",
    "delta = np.log(iters)/iters\n",
    "xi = delta/1.0\n",
    "\n",
    "G = 6 \n",
    "\n",
    "\n",
    "tracking_errs0, regs0 = opt.gradient_descent(loss_seq, opt.project_ball, 0.9)\n",
    "tracking_errs1, regs1 = opt.bandit_descent(loss_seq, opt.project_ball, eta, delta, xi)\n"
   ]
  },
  {
   "cell_type": "code",
   "execution_count": 8,
   "metadata": {},
   "outputs": [],
   "source": [
    "def regret_sequence(tracking_errs, G, rho):\n",
    "    reg_bound = [0]\n",
    "    for i in range(len(tracking_errs) - 1):\n",
    "        k1 = (tracking_errs[0] - rho * tracking_errs[i + 1]) / (1-rho)\n",
    "        k2 = 1/(1-rho)\n",
    "        reg_bound.append(k1*G*i + G*k2)\n",
    "    return reg_bound\n",
    "def regret_sequence_bandit(tracking_errs, G1, G, rho, d): #G1 is gradient bound of estimator G is lipschitz of ell_t\n",
    "    reg_bound = [0]\n",
    "    for i in range(len(tracking_errs) - 1):\n",
    "        k1 = (tracking_errs[0] - rho * tracking_errs[i + 1]) / (1-rho)\n",
    "        k2 = 1/(1-rho)\n",
    "        reg_bound.append(k1*G1*i + G1*k2 + G * np.log(i+1)*(1+2*d*G + 1))\n",
    "    return reg_bound"
   ]
  },
  {
   "cell_type": "code",
   "execution_count": 9,
   "metadata": {},
   "outputs": [],
   "source": [
    "rho = max([np.abs(1 - 0.9/np.sqrt(kappa)), np.abs(1 - 0.9)])\n",
    "rho_bandit = np.sqrt(1 - eta / np.sqrt(kappa))\n",
    "\n",
    "\n",
    "bounds0 = regret_sequence(tracking_errs0, G,rho)\n",
    "bounds1 = regret_sequence_bandit(tracking_errs1, G1, G, rho_bandit, d)"
   ]
  },
  {
   "cell_type": "markdown",
   "metadata": {},
   "source": [
    "### Results for $\\sigma=1$"
   ]
  },
  {
   "cell_type": "code",
   "execution_count": 19,
   "metadata": {},
   "outputs": [
    {
     "data": {
      "text/plain": [
       "Text(0, 0.5, '$Regret_t^d$')"
      ]
     },
     "execution_count": 19,
     "metadata": {},
     "output_type": "execute_result"
    },
    {
     "data": {
      "image/png": "[encoded data removed]",
      "text/plain": [
       "<Figure size 432x288 with 1 Axes>"
      ]
     },
     "metadata": {
      "needs_background": "light"
     },
     "output_type": "display_data"
    }
   ],
   "source": [
    "plt.plot(range(len(regs0)), regs0, label=\"Full Information\")\n",
    "plt.plot(range(len(regs0)), bounds0, label=\"Bound Full Information\")\n",
    "\n",
    "plt.plot(range(len(regs1)), regs1, label=\"d+1 point Bandit\")\n",
    "plt.plot(range(len(regs1)), bounds1, label=\"Bound d+1 point\")\n",
    "\n",
    "\n",
    "#plt.axhline(1/(1-rho), linestyle='--', label=\"Asymptotic bound\")\n",
    "plt.grid()\n",
    "plt.ylim([0, 60000.0])\n",
    "plt.legend()\n",
    "\n",
    "plt.xlabel(\"$t$\")\n",
    "plt.ylabel(\"$Regret_t^d$\")"
   ]
  },
  {
   "cell_type": "code",
   "execution_count": null,
   "metadata": {},
   "outputs": [],
   "source": []
  }
 ],
 "metadata": {
  "kernelspec": {
   "display_name": "Python 3",
   "language": "python",
   "name": "python3"
  },
  "language_info": {
   "codemirror_mode": {
    "name": "ipython",
    "version": 3
   },
   "file_extension": ".py",
   "mimetype": "text/x-python",
   "name": "python",
   "nbconvert_exporter": "python",
   "pygments_lexer": "ipython3",
   "version": "3.8.2"
  }
 },
 "nbformat": 4,
 "nbformat_minor": 4
}
